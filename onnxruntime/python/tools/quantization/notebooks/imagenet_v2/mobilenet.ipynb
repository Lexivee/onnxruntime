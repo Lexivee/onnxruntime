{
 "cells": [
  {
   "cell_type": "markdown",
   "metadata": {},
   "source": [
    "Copyright (c) Microsoft Corporation. All rights reserved.  \n",
    "Licensed under the MIT License."
   ]
  },
  {
   "cell_type": "markdown",
   "metadata": {},
   "source": [
    "# Mobilenet v2 Quantization with ONNX Runtime on CPU"
   ]
  },
  {
   "cell_type": "markdown",
   "metadata": {},
   "source": [
    "In this tutorial, we will load a mobilenet v2 model pretrained with [PyTorch](https://pytorch.org/), export the model to ONNX, and then quantize and run with ONNXRuntime."
   ]
  },
  {
   "cell_type": "markdown",
   "metadata": {},
   "source": [
    "## 0. Prerequisites ##\n",
    "\n",
    "If you have Jupyter Notebook, you can run this notebook directly with it. You may need to install or upgrade [PyTorch](https://pytorch.org/), [OnnxRuntime](https://microsoft.github.io/onnxruntime/), and other required packages.\n",
    "\n",
    "Otherwise, you can setup a new environment. First, install [AnaConda](https://www.anaconda.com/distribution/). Then open an AnaConda prompt window and run the following commands:\n",
    "\n",
    "```console\n",
    "conda create -n cpu_env python=3.8\n",
    "conda activate cpu_env\n",
    "conda install jupyter\n",
    "jupyter notebook\n",
    "```\n",
    "The last command will launch Jupyter Notebook and we can open this notebook in browser to continue."
   ]
  },
  {
   "cell_type": "markdown",
   "metadata": {},
   "source": [
    "### 0.1 Install packages\n",
    "Let's install nessasary packages to start the tutorial. We will install PyTorch 1.8, OnnxRuntime 1.8, latest ONNX and pillow."
   ]
  },
  {
   "cell_type": "code",
   "execution_count": 13,
   "metadata": {
    "scrolled": true
   },
   "outputs": [
    {
     "name": "stdout",
     "output_type": "stream",
     "text": [
      "Looking in links: https://download.pytorch.org/whl/torch_stable.html\n",
      "Requirement already up-to-date: torch==1.8.0 in /Users/gwang/opt/anaconda3/lib/python3.7/site-packages (1.8.0)\n",
      "Requirement already up-to-date: torchvision==0.9.0 in /Users/gwang/opt/anaconda3/lib/python3.7/site-packages (0.9.0)\n",
      "Requirement already up-to-date: torchaudio===0.8.0 in /Users/gwang/opt/anaconda3/lib/python3.7/site-packages (0.8.0)\n",
      "Requirement already satisfied, skipping upgrade: typing-extensions in /Users/gwang/opt/anaconda3/lib/python3.7/site-packages (from torch==1.8.0) (3.7.4.2)\n",
      "Requirement already satisfied, skipping upgrade: numpy in /Users/gwang/opt/anaconda3/lib/python3.7/site-packages (from torch==1.8.0) (1.18.5)\n",
      "Requirement already satisfied, skipping upgrade: pillow>=4.1.1 in /Users/gwang/opt/anaconda3/lib/python3.7/site-packages (from torchvision==0.9.0) (8.2.0)\n",
      "Requirement already up-to-date: onnxruntime==1.8.0 in /Users/gwang/opt/anaconda3/lib/python3.7/site-packages (1.8.0)\n",
      "Requirement already satisfied, skipping upgrade: protobuf in /Users/gwang/opt/anaconda3/lib/python3.7/site-packages (from onnxruntime==1.8.0) (3.14.0)\n",
      "Requirement already satisfied, skipping upgrade: numpy>=1.16.6 in /Users/gwang/opt/anaconda3/lib/python3.7/site-packages (from onnxruntime==1.8.0) (1.18.5)\n",
      "Requirement already satisfied, skipping upgrade: flatbuffers in /Users/gwang/opt/anaconda3/lib/python3.7/site-packages (from onnxruntime==1.8.0) (1.12)\n",
      "Requirement already satisfied, skipping upgrade: six>=1.9 in /Users/gwang/opt/anaconda3/lib/python3.7/site-packages (from protobuf->onnxruntime==1.8.0) (1.15.0)\n",
      "Requirement already up-to-date: onnx in /Users/gwang/opt/anaconda3/lib/python3.7/site-packages (1.9.0)\n",
      "Requirement already satisfied, skipping upgrade: six in /Users/gwang/opt/anaconda3/lib/python3.7/site-packages (from onnx) (1.15.0)\n",
      "Requirement already satisfied, skipping upgrade: numpy>=1.16.6 in /Users/gwang/opt/anaconda3/lib/python3.7/site-packages (from onnx) (1.18.5)\n",
      "Requirement already satisfied, skipping upgrade: typing-extensions>=3.6.2.1 in /Users/gwang/opt/anaconda3/lib/python3.7/site-packages (from onnx) (3.7.4.2)\n",
      "Requirement already satisfied, skipping upgrade: protobuf in /Users/gwang/opt/anaconda3/lib/python3.7/site-packages (from onnx) (3.14.0)\n",
      "Requirement already up-to-date: pillow in /Users/gwang/opt/anaconda3/lib/python3.7/site-packages (8.2.0)\n"
     ]
    }
   ],
   "source": [
    "# Install or upgrade PyTorch 1.8.0 and OnnxRuntime 1.8 for CPU-only.\n",
    "import sys\n",
    "!{sys.executable} -m pip install --upgrade torch==1.8.0 torchvision==0.9.0 torchaudio===0.8.0 -f https://download.pytorch.org/whl/torch_stable.html\n",
    "!{sys.executable} -m pip install --upgrade onnxruntime==1.8.0\n",
    "!{sys.executable} -m pip install --upgrade onnx\n",
    "!{sys.executable} -m pip install --upgrade pillow"
   ]
  },
  {
   "cell_type": "markdown",
   "metadata": {},
   "source": [
    "# 1 Download pretrained model and export to ONNX"
   ]
  },
  {
   "cell_type": "markdown",
   "metadata": {},
   "source": [
    "In this step, we load a pretrained mobilenet v2 model, and export it to ONNX."
   ]
  },
  {
   "cell_type": "markdown",
   "metadata": {},
   "source": [
    "### 1.1 Load the pretrained model\n",
    "Use torchvision provides API to load mobilenet_v2 model."
   ]
  },
  {
   "cell_type": "code",
   "execution_count": 5,
   "metadata": {},
   "outputs": [
    {
     "name": "stderr",
     "output_type": "stream",
     "text": [
      "Downloading: \"https://download.pytorch.org/models/mobilenet_v2-b0353104.pth\" to /Users/gwang/.cache/torch/hub/checkpoints/mobilenet_v2-b0353104.pth\n"
     ]
    },
    {
     "data": {
      "application/vnd.jupyter.widget-view+json": {
       "model_id": "bc7625214bb94cbb9aa82f6552232d67",
       "version_major": 2,
       "version_minor": 0
      },
      "text/plain": [
       "HBox(children=(FloatProgress(value=0.0, max=14212972.0), HTML(value='')))"
      ]
     },
     "metadata": {},
     "output_type": "display_data"
    },
    {
     "name": "stdout",
     "output_type": "stream",
     "text": [
      "\n"
     ]
    }
   ],
   "source": [
    "from torchvision import models, datasets, transforms as T\n",
    "mobilenet_v2 = models.mobilenet_v2(pretrained=True)"
   ]
  },
  {
   "cell_type": "markdown",
   "metadata": {},
   "source": [
    "### 1.2 Export the model to ONNX\n",
    "Pytorch onnx export API to export the model."
   ]
  },
  {
   "cell_type": "code",
   "execution_count": 6,
   "metadata": {},
   "outputs": [],
   "source": [
    "import torch\n",
    "image_height = 224\n",
    "image_width = 224\n",
    "x = torch.randn(1, 3, image_height, image_width, requires_grad=True)\n",
    "torch_out = mobilenet_v2(x)\n",
    "\n",
    "# Export the model\n",
    "torch.onnx.export(mobilenet_v2,              # model being run\n",
    "                  x,                         # model input (or a tuple for multiple inputs)\n",
    "                  \"mobilenet_v2_float.onnx\", # where to save the model (can be a file or file-like object)\n",
    "                  export_params=True,        # store the trained parameter weights inside the model file\n",
    "                  opset_version=12,          # the ONNX version to export the model to\n",
    "                  do_constant_folding=True,  # whether to execute constant folding for optimization\n",
    "                  input_names = ['input'],   # the model's input names\n",
    "                  output_names = ['output']) # the model's output names\n"
   ]
  },
  {
   "cell_type": "markdown",
   "metadata": {},
   "source": [
    "### 1.3 Sample Execution with ONNXRuntime"
   ]
  },
  {
   "cell_type": "markdown",
   "metadata": {},
   "source": [
    "Run an sample with the full precision ONNX model. Firstly, implement the preprocess."
   ]
  },
  {
   "cell_type": "code",
   "execution_count": 7,
   "metadata": {},
   "outputs": [],
   "source": [
    "from PIL import Image\n",
    "import numpy as np\n",
    "import onnxruntime\n",
    "import torch\n",
    "\n",
    "def preprocess_image(image_path, height, width, channels=3):\n",
    "    image = Image.open(image_path)\n",
    "    image = image.resize((width, height), Image.ANTIALIAS)\n",
    "    image_data = np.asarray(image).astype(np.float32)\n",
    "    image_data = image_data.transpose([2, 0, 1]) # transpose to CHW\n",
    "    mean = np.array([0.079, 0.05, 0]) + 0.406\n",
    "    std = np.array([0.005, 0, 0.001]) + 0.224\n",
    "    for channel in range(image_data.shape[0]):\n",
    "        image_data[channel, :, :] = (image_data[channel, :, :] / 255 - mean[channel]) / std[channel]\n",
    "    image_data = np.expand_dims(image_data, 0)\n",
    "    return image_data"
   ]
  },
  {
   "cell_type": "markdown",
   "metadata": {},
   "source": [
    "#### Download the imagenet labels and load it"
   ]
  },
  {
   "cell_type": "code",
   "execution_count": 8,
   "metadata": {},
   "outputs": [
    {
     "name": "stdout",
     "output_type": "stream",
     "text": [
      "  % Total    % Received % Xferd  Average Speed   Time    Time     Time  Current\n",
      "                                 Dload  Upload   Total   Spent    Left  Speed\n",
      "100 10472  100 10472    0     0  39817      0 --:--:-- --:--:-- --:--:-- 39817\n"
     ]
    }
   ],
   "source": [
    "# Download ImageNet labels\n",
    "!curl -o imagenet_classes.txt https://raw.githubusercontent.com/pytorch/hub/master/imagenet_classes.txt\n",
    "\n",
    "# Read the categories\n",
    "with open(\"imagenet_classes.txt\", \"r\") as f:\n",
    "    categories = [s.strip() for s in f.readlines()]"
   ]
  },
  {
   "cell_type": "markdown",
   "metadata": {},
   "source": [
    "#### Run the example with ONNXRuntime"
   ]
  },
  {
   "cell_type": "code",
   "execution_count": 9,
   "metadata": {},
   "outputs": [
    {
     "name": "stdout",
     "output_type": "stream",
     "text": [
      "tabby 0.7289727\n",
      "tiger cat 0.12759951\n",
      "Egyptian cat 0.12654182\n",
      "tiger 0.0031891621\n",
      "lynx 0.0031400118\n"
     ]
    }
   ],
   "source": [
    "session_fp32 = onnxruntime.InferenceSession(\"mobilenet_v2_float.onnx\")\n",
    "\n",
    "def softmax(x):\n",
    "    \"\"\"Compute softmax values for each sets of scores in x.\"\"\"\n",
    "    e_x = np.exp(x - np.max(x))\n",
    "    return e_x / e_x.sum()\n",
    "\n",
    "def run_sample(session, image_file, categories):\n",
    "    output = session.run([], {'input':preprocess_image(image_file, image_height, image_width)})[0]\n",
    "    output = output.flatten()\n",
    "    output = softmax(output) # this is optional\n",
    "    top5_catid = np.argsort(-output)[:5]\n",
    "    for catid in top5_catid:\n",
    "        print(categories[catid], output[catid])\n",
    "\n",
    "run_sample(session_fp32, 'cat.jpg', categories)"
   ]
  },
  {
   "cell_type": "markdown",
   "metadata": {},
   "source": [
    "# 2 Quantize the model with ONNXRuntime \n",
    "In this step, we load the full precison model, and quantize it with ONNXRuntime quantization tool. And show the model size comparison between full precision and quantized model. Finally, we run the same sample with the quantized model"
   ]
  },
  {
   "cell_type": "markdown",
   "metadata": {},
   "source": [
    "## 2.1 Implement a CalibrationDataReader\n",
    "CalibrationDataReader takes in calibration data and generates input for the model"
   ]
  },
  {
   "cell_type": "code",
   "execution_count": 10,
   "metadata": {},
   "outputs": [],
   "source": [
    "from onnxruntime.quantization import quantize_static, CalibrationDataReader, QuantType\n",
    "import os\n",
    "\n",
    "def preprocess_func(images_folder, height, width, size_limit=0):\n",
    "    image_names = os.listdir(images_folder)\n",
    "    if size_limit > 0 and len(image_names) >= size_limit:\n",
    "        batch_filenames = [image_names[i] for i in range(size_limit)]\n",
    "    else:\n",
    "        batch_filenames = image_names\n",
    "    unconcatenated_batch_data = []\n",
    "\n",
    "    for image_name in batch_filenames:\n",
    "        image_filepath = images_folder + '/' + image_name\n",
    "        image_data = preprocess_image(image_filepath, height, width)\n",
    "        unconcatenated_batch_data.append(image_data)\n",
    "    batch_data = np.concatenate(np.expand_dims(unconcatenated_batch_data, axis=0), axis=0)\n",
    "    return batch_data\n",
    "\n",
    "\n",
    "class MobilenetDataReader(CalibrationDataReader):\n",
    "    def __init__(self, calibration_image_folder):\n",
    "        self.image_folder = calibration_image_folder\n",
    "        self.preprocess_flag = True\n",
    "        self.enum_data_dicts = []\n",
    "        self.datasize = 0\n",
    "\n",
    "    def get_next(self):\n",
    "        if self.preprocess_flag:\n",
    "            self.preprocess_flag = False\n",
    "            nhwc_data_list = preprocess_func(self.image_folder, image_height, image_width, size_limit=0)\n",
    "            self.datasize = len(nhwc_data_list)\n",
    "            self.enum_data_dicts = iter([{'input': nhwc_data} for nhwc_data in nhwc_data_list])\n",
    "        return next(self.enum_data_dicts, None)"
   ]
  },
  {
   "cell_type": "markdown",
   "metadata": {},
   "source": [
    "## 2.2 Quantize the model"
   ]
  },
  {
   "cell_type": "markdown",
   "metadata": {},
   "source": [
    "As we can not upload full calibration data set for copy right issue, we only demenstrate with some example images. You need to use your own calibration in practice."
   ]
  },
  {
   "cell_type": "code",
   "execution_count": 35,
   "metadata": {},
   "outputs": [
    {
     "name": "stderr",
     "output_type": "stream",
     "text": [
      "2021-06-03 18:16:55,965 PIL.PngImagePlugin [DEBUG] - STREAM b'IHDR' 16 13\n",
      "2021-06-03 18:16:55,966 PIL.PngImagePlugin [DEBUG] - STREAM b'IDAT' 41 65536\n"
     ]
    },
    {
     "name": "stdout",
     "output_type": "stream",
     "text": [
      "ONNX full precision model size (MB): 13.31911563873291\n",
      "ONNX quantized model size (MB): 3.4079113006591797\n"
     ]
    }
   ],
   "source": [
    "# change it to your real calibration data set\n",
    "calibration_data_folder = \"calibration_imagenet\"\n",
    "dr = MobilenetDataReader(calibration_data_folder)\n",
    "\n",
    "quantize_static('mobilenet_v2_float.onnx',\n",
    "                'mobilenet_v2_uint8.onnx',\n",
    "                dr)\n",
    "\n",
    "print('ONNX full precision model size (MB):', os.path.getsize(\"mobilenet_v2_float.onnx\")/(1024*1024))\n",
    "print('ONNX quantized model size (MB):', os.path.getsize(\"mobilenet_v2_uint8.onnx\")/(1024*1024))"
   ]
  },
  {
   "cell_type": "markdown",
   "metadata": {},
   "source": [
    "## 2.3 Run the model with OnnxRuntime"
   ]
  },
  {
   "cell_type": "code",
   "execution_count": 36,
   "metadata": {},
   "outputs": [
    {
     "name": "stdout",
     "output_type": "stream",
     "text": [
      "tabby 0.8141141\n",
      "tiger cat 0.11124368\n",
      "Egyptian cat 0.06763518\n",
      "lynx 0.0012628529\n",
      "tiger 0.0012628529\n"
     ]
    }
   ],
   "source": [
    "session_quant = onnxruntime.InferenceSession(\"mobilenet_v2.uint8.onnx\")\n",
    "run_sample(session_quant, 'cat.jpg', categories)"
   ]
  },
  {
   "cell_type": "markdown",
   "metadata": {},
   "source": [
    "# 3 Convert the models to ort format."
   ]
  },
  {
   "cell_type": "markdown",
   "metadata": {},
   "source": [
    "This step is optional, we will convert the *mobilenet_v2_float.onnx* and *mobilenet_v2_uint8.onnx* to ORT format, to be used in mobile applications."
   ]
  },
  {
   "cell_type": "code",
   "execution_count": 38,
   "metadata": {},
   "outputs": [
    {
     "name": "stdout",
     "output_type": "stream",
     "text": [
      "2021-06-03 17:27:58.225093 [E:onnxruntime:Default, provider_bridge_ort.cc:902 Ensure] Failed to load library libonnxruntime_providers_shared.dylib with error: dlopen(libonnxruntime_providers_shared.dylib, 10): image not found\n",
      "2021-06-03 17:27:58.225121 [W:onnxruntime:Default, onnxruntime_pybind_state.cc:1615 pybind11_init_onnxruntime_pybind11_state] Init provider bridge failed.\n",
      "Converting optimized ONNX model /Users/gwang/github/onnxruntime3/onnxruntime/python/tools/quantization/notebooks/imagenet_v2/mobilenet_v2_float.onnx to ORT format model /Users/gwang/github/onnxruntime3/onnxruntime/python/tools/quantization/notebooks/imagenet_v2/mobilenet_v2_float.basic.ort\n",
      "Converting optimized ONNX model /Users/gwang/github/onnxruntime3/onnxruntime/python/tools/quantization/notebooks/imagenet_v2/mobilenet_v2_float-opt.onnx to ORT format model /Users/gwang/github/onnxruntime3/onnxruntime/python/tools/quantization/notebooks/imagenet_v2/mobilenet_v2_float-opt.basic.ort\n",
      "Converting optimized ONNX model /Users/gwang/github/onnxruntime3/onnxruntime/python/tools/quantization/notebooks/imagenet_v2/mobilenet_v2.uint8.onnx to ORT format model /Users/gwang/github/onnxruntime3/onnxruntime/python/tools/quantization/notebooks/imagenet_v2/mobilenet_v2.uint8.basic.ort\n",
      "2021-06-03 17:27:58.427944 [W:onnxruntime:, graph.cc:3211 CleanUnusedInitializers] Removing initializer '696_quantized_zero_point'. It is not used by any node and should be removed from the model.\n",
      "2021-06-03 17:27:58.427967 [W:onnxruntime:, graph.cc:3211 CleanUnusedInitializers] Removing initializer '693_quantized_scale'. It is not used by any node and should be removed from the model.\n",
      "2021-06-03 17:27:58.427975 [W:onnxruntime:, graph.cc:3211 CleanUnusedInitializers] Removing initializer '690_quantized_scale'. It is not used by any node and should be removed from the model.\n",
      "2021-06-03 17:27:58.427982 [W:onnxruntime:, graph.cc:3211 CleanUnusedInitializers] Removing initializer '687_quantized_zero_point'. It is not used by any node and should be removed from the model.\n",
      "2021-06-03 17:27:58.427989 [W:onnxruntime:, graph.cc:3211 CleanUnusedInitializers] Removing initializer '687_quantized_scale'. It is not used by any node and should be removed from the model.\n",
      "2021-06-03 17:27:58.427995 [W:onnxruntime:, graph.cc:3211 CleanUnusedInitializers] Removing initializer '684_quantized_scale'. It is not used by any node and should be removed from the model.\n",
      "2021-06-03 17:27:58.428002 [W:onnxruntime:, graph.cc:3211 CleanUnusedInitializers] Removing initializer '678_quantized_zero_point'. It is not used by any node and should be removed from the model.\n",
      "2021-06-03 17:27:58.428008 [W:onnxruntime:, graph.cc:3211 CleanUnusedInitializers] Removing initializer '678_quantized_scale'. It is not used by any node and should be removed from the model.\n",
      "2021-06-03 17:27:58.428014 [W:onnxruntime:, graph.cc:3211 CleanUnusedInitializers] Removing initializer '699_quantized_zero_point'. It is not used by any node and should be removed from the model.\n",
      "2021-06-03 17:27:58.428199 [W:onnxruntime:, graph.cc:3211 CleanUnusedInitializers] Removing initializer '675_quantized_zero_point'. It is not used by any node and should be removed from the model.\n",
      "2021-06-03 17:27:58.428222 [W:onnxruntime:, graph.cc:3211 CleanUnusedInitializers] Removing initializer '669_quantized_zero_point'. It is not used by any node and should be removed from the model.\n",
      "2021-06-03 17:27:58.428236 [W:onnxruntime:, graph.cc:3211 CleanUnusedInitializers] Removing initializer '699_quantized_scale'. It is not used by any node and should be removed from the model.\n",
      "2021-06-03 17:27:58.428244 [W:onnxruntime:, graph.cc:3211 CleanUnusedInitializers] Removing initializer '663_quantized_zero_point'. It is not used by any node and should be removed from the model.\n",
      "2021-06-03 17:27:58.428250 [W:onnxruntime:, graph.cc:3211 CleanUnusedInitializers] Removing initializer '520'. It is not used by any node and should be removed from the model.\n",
      "2021-06-03 17:27:58.428256 [W:onnxruntime:, graph.cc:3211 CleanUnusedInitializers] Removing initializer '660_quantized_zero_point'. It is not used by any node and should be removed from the model.\n",
      "2021-06-03 17:27:58.428364 [W:onnxruntime:, graph.cc:3211 CleanUnusedInitializers] Removing initializer '660_quantized_scale'. It is not used by any node and should be removed from the model.\n",
      "2021-06-03 17:27:58.428385 [W:onnxruntime:, graph.cc:3211 CleanUnusedInitializers] Removing initializer '675_quantized_scale'. It is not used by any node and should be removed from the model.\n",
      "2021-06-03 17:27:58.428393 [W:onnxruntime:, graph.cc:3211 CleanUnusedInitializers] Removing initializer '654_quantized_zero_point'. It is not used by any node and should be removed from the model.\n",
      "2021-06-03 17:27:58.428400 [W:onnxruntime:, graph.cc:3211 CleanUnusedInitializers] Removing initializer '455'. It is not used by any node and should be removed from the model.\n",
      "2021-06-03 17:27:58.428406 [W:onnxruntime:, graph.cc:3211 CleanUnusedInitializers] Removing initializer '657_quantized_zero_point'. It is not used by any node and should be removed from the model.\n",
      "2021-06-03 17:27:58.428411 [W:onnxruntime:, graph.cc:3211 CleanUnusedInitializers] Removing initializer '651_quantized_zero_point'. It is not used by any node and should be removed from the model.\n",
      "2021-06-03 17:27:58.428520 [W:onnxruntime:, graph.cc:3211 CleanUnusedInitializers] Removing initializer '657_quantized_scale'. It is not used by any node and should be removed from the model.\n",
      "2021-06-03 17:27:58.428537 [W:onnxruntime:, graph.cc:3211 CleanUnusedInitializers] Removing initializer '430'. It is not used by any node and should be removed from the model.\n",
      "2021-06-03 17:27:58.428544 [W:onnxruntime:, graph.cc:3211 CleanUnusedInitializers] Removing initializer '645_quantized_zero_point'. It is not used by any node and should be removed from the model.\n",
      "2021-06-03 17:27:58.428550 [W:onnxruntime:, graph.cc:3211 CleanUnusedInitializers] Removing initializer '585_quantized_zero_point'. It is not used by any node and should be removed from the model.\n",
      "2021-06-03 17:27:58.428557 [W:onnxruntime:, graph.cc:3211 CleanUnusedInitializers] Removing initializer '486'. It is not used by any node and should be removed from the model.\n",
      "2021-06-03 17:27:58.428563 [W:onnxruntime:, graph.cc:3211 CleanUnusedInitializers] Removing initializer '329'. It is not used by any node and should be removed from the model.\n",
      "2021-06-03 17:27:58.428672 [W:onnxruntime:, graph.cc:3211 CleanUnusedInitializers] Removing initializer '630_quantized_scale'. It is not used by any node and should be removed from the model.\n",
      "2021-06-03 17:27:58.428687 [W:onnxruntime:, graph.cc:3211 CleanUnusedInitializers] Removing initializer '474'. It is not used by any node and should be removed from the model.\n",
      "2021-06-03 17:27:58.428694 [W:onnxruntime:, graph.cc:3211 CleanUnusedInitializers] Removing initializer '606_quantized_scale'. It is not used by any node and should be removed from the model.\n",
      "2021-06-03 17:27:58.428700 [W:onnxruntime:, graph.cc:3211 CleanUnusedInitializers] Removing initializer '481'. It is not used by any node and should be removed from the model.\n",
      "2021-06-03 17:27:58.428705 [W:onnxruntime:, graph.cc:3211 CleanUnusedInitializers] Removing initializer '627_quantized_zero_point'. It is not used by any node and should be removed from the model.\n",
      "2021-06-03 17:27:58.428711 [W:onnxruntime:, graph.cc:3211 CleanUnusedInitializers] Removing initializer '627_quantized_scale'. It is not used by any node and should be removed from the model.\n",
      "2021-06-03 17:27:58.428827 [W:onnxruntime:, graph.cc:3211 CleanUnusedInitializers] Removing initializer '404'. It is not used by any node and should be removed from the model.\n",
      "2021-06-03 17:27:58.428843 [W:onnxruntime:, graph.cc:3211 CleanUnusedInitializers] Removing initializer '621_quantized_scale'. It is not used by any node and should be removed from the model.\n",
      "2021-06-03 17:27:58.428850 [W:onnxruntime:, graph.cc:3211 CleanUnusedInitializers] Removing initializer '597_quantized_zero_point'. It is not used by any node and should be removed from the model.\n",
      "2021-06-03 17:27:58.428856 [W:onnxruntime:, graph.cc:3211 CleanUnusedInitializers] Removing initializer '642_quantized_zero_point'. It is not used by any node and should be removed from the model.\n",
      "2021-06-03 17:27:58.428862 [W:onnxruntime:, graph.cc:3211 CleanUnusedInitializers] Removing initializer '615_quantized_scale'. It is not used by any node and should be removed from the model.\n",
      "2021-06-03 17:27:58.428867 [W:onnxruntime:, graph.cc:3211 CleanUnusedInitializers] Removing initializer '666_quantized_zero_point'. It is not used by any node and should be removed from the model.\n",
      "2021-06-03 17:27:58.428978 [W:onnxruntime:, graph.cc:3211 CleanUnusedInitializers] Removing initializer '612_quantized_scale'. It is not used by any node and should be removed from the model.\n",
      "2021-06-03 17:27:58.428994 [W:onnxruntime:, graph.cc:3211 CleanUnusedInitializers] Removing initializer '639_quantized_zero_point'. It is not used by any node and should be removed from the model.\n",
      "2021-06-03 17:27:58.429001 [W:onnxruntime:, graph.cc:3211 CleanUnusedInitializers] Removing initializer '651_quantized_scale'. It is not used by any node and should be removed from the model.\n",
      "2021-06-03 17:27:58.429007 [W:onnxruntime:, graph.cc:3211 CleanUnusedInitializers] Removing initializer '603_quantized_zero_point'. It is not used by any node and should be removed from the model.\n",
      "2021-06-03 17:27:58.429012 [W:onnxruntime:, graph.cc:3211 CleanUnusedInitializers] Removing initializer '603_quantized_scale'. It is not used by any node and should be removed from the model.\n",
      "2021-06-03 17:27:58.429018 [W:onnxruntime:, graph.cc:3211 CleanUnusedInitializers] Removing initializer '672_quantized_zero_point'. It is not used by any node and should be removed from the model.\n",
      "2021-06-03 17:27:58.429131 [W:onnxruntime:, graph.cc:3211 CleanUnusedInitializers] Removing initializer '423'. It is not used by any node and should be removed from the model.\n",
      "2021-06-03 17:27:58.429147 [W:onnxruntime:, graph.cc:3211 CleanUnusedInitializers] Removing initializer '633_quantized_zero_point'. It is not used by any node and should be removed from the model.\n",
      "2021-06-03 17:27:58.429155 [W:onnxruntime:, graph.cc:3211 CleanUnusedInitializers] Removing initializer '639_quantized_scale'. It is not used by any node and should be removed from the model.\n",
      "2021-06-03 17:27:58.429161 [W:onnxruntime:, graph.cc:3211 CleanUnusedInitializers] Removing initializer '612_quantized_zero_point'. It is not used by any node and should be removed from the model.\n",
      "2021-06-03 17:27:58.429167 [W:onnxruntime:, graph.cc:3211 CleanUnusedInitializers] Removing initializer '624_quantized_scale'. It is not used by any node and should be removed from the model.\n",
      "2021-06-03 17:27:58.429173 [W:onnxruntime:, graph.cc:3211 CleanUnusedInitializers] Removing initializer '681_quantized_zero_point'. It is not used by any node and should be removed from the model.\n",
      "2021-06-03 17:27:58.429287 [W:onnxruntime:, graph.cc:3211 CleanUnusedInitializers] Removing initializer '600_quantized_scale'. It is not used by any node and should be removed from the model.\n",
      "2021-06-03 17:27:58.429303 [W:onnxruntime:, graph.cc:3211 CleanUnusedInitializers] Removing initializer '579_quantized_zero_point'. It is not used by any node and should be removed from the model.\n",
      "2021-06-03 17:27:58.429311 [W:onnxruntime:, graph.cc:3211 CleanUnusedInitializers] Removing initializer '594_quantized_zero_point'. It is not used by any node and should be removed from the model.\n",
      "2021-06-03 17:27:58.429317 [W:onnxruntime:, graph.cc:3211 CleanUnusedInitializers] Removing initializer '594_quantized_scale'. It is not used by any node and should be removed from the model.\n",
      "2021-06-03 17:27:58.429323 [W:onnxruntime:, graph.cc:3211 CleanUnusedInitializers] Removing initializer '648_quantized_scale'. It is not used by any node and should be removed from the model.\n",
      "2021-06-03 17:27:58.429329 [W:onnxruntime:, graph.cc:3211 CleanUnusedInitializers] Removing initializer '591_quantized_zero_point'. It is not used by any node and should be removed from the model.\n",
      "2021-06-03 17:27:58.429450 [W:onnxruntime:, graph.cc:3211 CleanUnusedInitializers] Removing initializer '666_quantized_scale'. It is not used by any node and should be removed from the model.\n",
      "2021-06-03 17:27:58.429465 [W:onnxruntime:, graph.cc:3211 CleanUnusedInitializers] Removing initializer '591_quantized_scale'. It is not used by any node and should be removed from the model.\n",
      "2021-06-03 17:27:58.429473 [W:onnxruntime:, graph.cc:3211 CleanUnusedInitializers] Removing initializer '588_quantized_zero_point'. It is not used by any node and should be removed from the model.\n",
      "2021-06-03 17:27:58.429479 [W:onnxruntime:, graph.cc:3211 CleanUnusedInitializers] Removing initializer '410'. It is not used by any node and should be removed from the model.\n",
      "2021-06-03 17:27:58.429485 [W:onnxruntime:, graph.cc:3211 CleanUnusedInitializers] Removing initializer '672_quantized_scale'. It is not used by any node and should be removed from the model.\n",
      "2021-06-03 17:27:58.429491 [W:onnxruntime:, graph.cc:3211 CleanUnusedInitializers] Removing initializer '561_quantized_zero_point'. It is not used by any node and should be removed from the model.\n",
      "2021-06-03 17:27:58.429602 [W:onnxruntime:, graph.cc:3211 CleanUnusedInitializers] Removing initializer '546_quantized_scale'. It is not used by any node and should be removed from the model.\n",
      "2021-06-03 17:27:58.429617 [W:onnxruntime:, graph.cc:3211 CleanUnusedInitializers] Removing initializer '499'. It is not used by any node and should be removed from the model.\n",
      "2021-06-03 17:27:58.429626 [W:onnxruntime:, graph.cc:3211 CleanUnusedInitializers] Removing initializer '417'. It is not used by any node and should be removed from the model.\n",
      "2021-06-03 17:27:58.429631 [W:onnxruntime:, graph.cc:3211 CleanUnusedInitializers] Removing initializer '367'. It is not used by any node and should be removed from the model.\n",
      "2021-06-03 17:27:58.429637 [W:onnxruntime:, graph.cc:3211 CleanUnusedInitializers] Removing initializer '636_quantized_scale'. It is not used by any node and should be removed from the model.\n",
      "2021-06-03 17:27:58.429643 [W:onnxruntime:, graph.cc:3211 CleanUnusedInitializers] Removing initializer '606_quantized_zero_point'. It is not used by any node and should be removed from the model.\n",
      "2021-06-03 17:27:58.429755 [W:onnxruntime:, graph.cc:3211 CleanUnusedInitializers] Removing initializer '570_quantized_zero_point'. It is not used by any node and should be removed from the model.\n",
      "2021-06-03 17:27:58.429770 [W:onnxruntime:, graph.cc:3211 CleanUnusedInitializers] Removing initializer '570_quantized_scale'. It is not used by any node and should be removed from the model.\n",
      "2021-06-03 17:27:58.429778 [W:onnxruntime:, graph.cc:3211 CleanUnusedInitializers] Removing initializer '630_quantized_zero_point'. It is not used by any node and should be removed from the model.\n",
      "2021-06-03 17:27:58.429784 [W:onnxruntime:, graph.cc:3211 CleanUnusedInitializers] Removing initializer '609_quantized_scale'. It is not used by any node and should be removed from the model.\n",
      "2021-06-03 17:27:58.429789 [W:onnxruntime:, graph.cc:3211 CleanUnusedInitializers] Removing initializer '330'. It is not used by any node and should be removed from the model.\n",
      "2021-06-03 17:27:58.429795 [W:onnxruntime:, graph.cc:3211 CleanUnusedInitializers] Removing initializer '588_quantized_scale'. It is not used by any node and should be removed from the model.\n",
      "2021-06-03 17:27:58.429910 [W:onnxruntime:, graph.cc:3211 CleanUnusedInitializers] Removing initializer '482'. It is not used by any node and should be removed from the model.\n",
      "2021-06-03 17:27:58.429925 [W:onnxruntime:, graph.cc:3211 CleanUnusedInitializers] Removing initializer '609_quantized_zero_point'. It is not used by any node and should be removed from the model.\n",
      "2021-06-03 17:27:58.429932 [W:onnxruntime:, graph.cc:3211 CleanUnusedInitializers] Removing initializer '567_quantized_scale'. It is not used by any node and should be removed from the model.\n",
      "2021-06-03 17:27:58.429938 [W:onnxruntime:, graph.cc:3211 CleanUnusedInitializers] Removing initializer '456'. It is not used by any node and should be removed from the model.\n",
      "2021-06-03 17:27:58.429944 [W:onnxruntime:, graph.cc:3211 CleanUnusedInitializers] Removing initializer '392'. It is not used by any node and should be removed from the model.\n",
      "2021-06-03 17:27:58.429950 [W:onnxruntime:, graph.cc:3211 CleanUnusedInitializers] Removing initializer '579_quantized_scale'. It is not used by any node and should be removed from the model.\n",
      "2021-06-03 17:27:58.430060 [W:onnxruntime:, graph.cc:3211 CleanUnusedInitializers] Removing initializer '564_quantized_zero_point'. It is not used by any node and should be removed from the model.\n",
      "2021-06-03 17:27:58.430075 [W:onnxruntime:, graph.cc:3211 CleanUnusedInitializers] Removing initializer '564_quantized_scale'. It is not used by any node and should be removed from the model.\n",
      "2021-06-03 17:27:58.430083 [W:onnxruntime:, graph.cc:3211 CleanUnusedInitializers] Removing initializer '531'. It is not used by any node and should be removed from the model.\n",
      "2021-06-03 17:27:58.430089 [W:onnxruntime:, graph.cc:3211 CleanUnusedInitializers] Removing initializer '397'. It is not used by any node and should be removed from the model.\n",
      "2021-06-03 17:27:58.430094 [W:onnxruntime:, graph.cc:3211 CleanUnusedInitializers] Removing initializer '487'. It is not used by any node and should be removed from the model.\n",
      "2021-06-03 17:27:58.430100 [W:onnxruntime:, graph.cc:3211 CleanUnusedInitializers] Removing initializer '555_quantized_zero_point'. It is not used by any node and should be removed from the model.\n",
      "2021-06-03 17:27:58.430212 [W:onnxruntime:, graph.cc:3211 CleanUnusedInitializers] Removing initializer '582_quantized_scale'. It is not used by any node and should be removed from the model.\n",
      "2021-06-03 17:27:58.430227 [W:onnxruntime:, graph.cc:3211 CleanUnusedInitializers] Removing initializer '633_quantized_scale'. It is not used by any node and should be removed from the model.\n",
      "2021-06-03 17:27:58.430235 [W:onnxruntime:, graph.cc:3211 CleanUnusedInitializers] Removing initializer '549_quantized_zero_point'. It is not used by any node and should be removed from the model.\n",
      "2021-06-03 17:27:58.430241 [W:onnxruntime:, graph.cc:3211 CleanUnusedInitializers] Removing initializer '681_quantized_scale'. It is not used by any node and should be removed from the model.\n",
      "2021-06-03 17:27:58.430247 [W:onnxruntime:, graph.cc:3211 CleanUnusedInitializers] Removing initializer '558_quantized_scale'. It is not used by any node and should be removed from the model.\n",
      "2021-06-03 17:27:58.430252 [W:onnxruntime:, graph.cc:3211 CleanUnusedInitializers] Removing initializer '524'. It is not used by any node and should be removed from the model.\n",
      "2021-06-03 17:27:58.430366 [W:onnxruntime:, graph.cc:3211 CleanUnusedInitializers] Removing initializer '546_quantized_zero_point'. It is not used by any node and should be removed from the model.\n",
      "2021-06-03 17:27:58.430381 [W:onnxruntime:, graph.cc:3211 CleanUnusedInitializers] Removing initializer '567_quantized_zero_point'. It is not used by any node and should be removed from the model.\n",
      "2021-06-03 17:27:58.430389 [W:onnxruntime:, graph.cc:3211 CleanUnusedInitializers] Removing initializer '555_quantized_scale'. It is not used by any node and should be removed from the model.\n",
      "2021-06-03 17:27:58.430395 [W:onnxruntime:, graph.cc:3211 CleanUnusedInitializers] Removing initializer '469'. It is not used by any node and should be removed from the model.\n",
      "2021-06-03 17:27:58.430401 [W:onnxruntime:, graph.cc:3211 CleanUnusedInitializers] Removing initializer '549_quantized_scale'. It is not used by any node and should be removed from the model.\n",
      "2021-06-03 17:27:58.430406 [W:onnxruntime:, graph.cc:3211 CleanUnusedInitializers] Removing initializer '384'. It is not used by any node and should be removed from the model.\n",
      "2021-06-03 17:27:58.430518 [W:onnxruntime:, graph.cc:3211 CleanUnusedInitializers] Removing initializer '552_quantized_zero_point'. It is not used by any node and should be removed from the model.\n",
      "2021-06-03 17:27:58.430533 [W:onnxruntime:, graph.cc:3211 CleanUnusedInitializers] Removing initializer '597_quantized_scale'. It is not used by any node and should be removed from the model.\n",
      "2021-06-03 17:27:58.430541 [W:onnxruntime:, graph.cc:3211 CleanUnusedInitializers] Removing initializer '561_quantized_scale'. It is not used by any node and should be removed from the model.\n",
      "2021-06-03 17:27:58.430547 [W:onnxruntime:, graph.cc:3211 CleanUnusedInitializers] Removing initializer '409'. It is not used by any node and should be removed from the model.\n",
      "2021-06-03 17:27:58.430552 [W:onnxruntime:, graph.cc:3211 CleanUnusedInitializers] Removing initializer '618_quantized_scale'. It is not used by any node and should be removed from the model.\n",
      "2021-06-03 17:27:58.430558 [W:onnxruntime:, graph.cc:3211 CleanUnusedInitializers] Removing initializer '335'. It is not used by any node and should be removed from the model.\n",
      "2021-06-03 17:27:58.430670 [W:onnxruntime:, graph.cc:3211 CleanUnusedInitializers] Removing initializer '449'. It is not used by any node and should be removed from the model.\n",
      "2021-06-03 17:27:58.430685 [W:onnxruntime:, graph.cc:3211 CleanUnusedInitializers] Removing initializer '585_quantized_scale'. It is not used by any node and should be removed from the model.\n",
      "2021-06-03 17:27:58.430693 [W:onnxruntime:, graph.cc:3211 CleanUnusedInitializers] Removing initializer '642_quantized_scale'. It is not used by any node and should be removed from the model.\n",
      "2021-06-03 17:27:58.430699 [W:onnxruntime:, graph.cc:3211 CleanUnusedInitializers] Removing initializer '696_quantized_scale'. It is not used by any node and should be removed from the model.\n",
      "2021-06-03 17:27:58.430704 [W:onnxruntime:, graph.cc:3211 CleanUnusedInitializers] Removing initializer '444'. It is not used by any node and should be removed from the model.\n",
      "2021-06-03 17:27:58.430710 [W:onnxruntime:, graph.cc:3211 CleanUnusedInitializers] Removing initializer '385'. It is not used by any node and should be removed from the model.\n",
      "2021-06-03 17:27:58.430822 [W:onnxruntime:, graph.cc:3211 CleanUnusedInitializers] Removing initializer '693_quantized_zero_point'. It is not used by any node and should be removed from the model.\n",
      "2021-06-03 17:27:58.430837 [W:onnxruntime:, graph.cc:3211 CleanUnusedInitializers] Removing initializer '448'. It is not used by any node and should be removed from the model.\n",
      "2021-06-03 17:27:58.430844 [W:onnxruntime:, graph.cc:3211 CleanUnusedInitializers] Removing initializer '347'. It is not used by any node and should be removed from the model.\n",
      "2021-06-03 17:27:58.430850 [W:onnxruntime:, graph.cc:3211 CleanUnusedInitializers] Removing initializer '573_quantized_scale'. It is not used by any node and should be removed from the model.\n",
      "2021-06-03 17:27:58.430855 [W:onnxruntime:, graph.cc:3211 CleanUnusedInitializers] Removing initializer '615_quantized_zero_point'. It is not used by any node and should be removed from the model.\n",
      "2021-06-03 17:27:58.430861 [W:onnxruntime:, graph.cc:3211 CleanUnusedInitializers] Removing initializer '323'. It is not used by any node and should be removed from the model.\n",
      "2021-06-03 17:27:58.430976 [W:onnxruntime:, graph.cc:3211 CleanUnusedInitializers] Removing initializer '525'. It is not used by any node and should be removed from the model.\n",
      "2021-06-03 17:27:58.430991 [W:onnxruntime:, graph.cc:3211 CleanUnusedInitializers] Removing initializer '498'. It is not used by any node and should be removed from the model.\n",
      "2021-06-03 17:27:58.430998 [W:onnxruntime:, graph.cc:3211 CleanUnusedInitializers] Removing initializer '372'. It is not used by any node and should be removed from the model.\n",
      "2021-06-03 17:27:58.431004 [W:onnxruntime:, graph.cc:3211 CleanUnusedInitializers] Removing initializer '573_quantized_zero_point'. It is not used by any node and should be removed from the model.\n",
      "2021-06-03 17:27:58.431009 [W:onnxruntime:, graph.cc:3211 CleanUnusedInitializers] Removing initializer '512'. It is not used by any node and should be removed from the model.\n",
      "2021-06-03 17:27:58.431015 [W:onnxruntime:, graph.cc:3211 CleanUnusedInitializers] Removing initializer '443'. It is not used by any node and should be removed from the model.\n",
      "2021-06-03 17:27:58.431128 [W:onnxruntime:, graph.cc:3211 CleanUnusedInitializers] Removing initializer '663_quantized_scale'. It is not used by any node and should be removed from the model.\n",
      "2021-06-03 17:27:58.431142 [W:onnxruntime:, graph.cc:3211 CleanUnusedInitializers] Removing initializer '511'. It is not used by any node and should be removed from the model.\n",
      "2021-06-03 17:27:58.431150 [W:onnxruntime:, graph.cc:3211 CleanUnusedInitializers] Removing initializer '371'. It is not used by any node and should be removed from the model.\n",
      "2021-06-03 17:27:58.431155 [W:onnxruntime:, graph.cc:3211 CleanUnusedInitializers] Removing initializer '636_quantized_zero_point'. It is not used by any node and should be removed from the model.\n",
      "2021-06-03 17:27:58.431161 [W:onnxruntime:, graph.cc:3211 CleanUnusedInitializers] Removing initializer '507'. It is not used by any node and should be removed from the model.\n",
      "2021-06-03 17:27:58.431167 [W:onnxruntime:, graph.cc:3211 CleanUnusedInitializers] Removing initializer '506'. It is not used by any node and should be removed from the model.\n",
      "2021-06-03 17:27:58.431283 [W:onnxruntime:, graph.cc:3211 CleanUnusedInitializers] Removing initializer '552_quantized_scale'. It is not used by any node and should be removed from the model.\n",
      "2021-06-03 17:27:58.431299 [W:onnxruntime:, graph.cc:3211 CleanUnusedInitializers] Removing initializer '600_quantized_zero_point'. It is not used by any node and should be removed from the model.\n",
      "2021-06-03 17:27:58.431305 [W:onnxruntime:, graph.cc:3211 CleanUnusedInitializers] Removing initializer '317'. It is not used by any node and should be removed from the model.\n",
      "2021-06-03 17:27:58.431311 [W:onnxruntime:, graph.cc:3211 CleanUnusedInitializers] Removing initializer '494'. It is not used by any node and should be removed from the model.\n",
      "2021-06-03 17:27:58.431316 [W:onnxruntime:, graph.cc:3211 CleanUnusedInitializers] Removing initializer '435'. It is not used by any node and should be removed from the model.\n",
      "2021-06-03 17:27:58.431321 [W:onnxruntime:, graph.cc:3211 CleanUnusedInitializers] Removing initializer '493'. It is not used by any node and should be removed from the model.\n",
      "2021-06-03 17:27:58.431433 [W:onnxruntime:, graph.cc:3211 CleanUnusedInitializers] Removing initializer '690_quantized_zero_point'. It is not used by any node and should be removed from the model.\n",
      "2021-06-03 17:27:58.431448 [W:onnxruntime:, graph.cc:3211 CleanUnusedInitializers] Removing initializer '468'. It is not used by any node and should be removed from the model.\n",
      "2021-06-03 17:27:58.431455 [W:onnxruntime:, graph.cc:3211 CleanUnusedInitializers] Removing initializer '460'. It is not used by any node and should be removed from the model.\n",
      "2021-06-03 17:27:58.431461 [W:onnxruntime:, graph.cc:3211 CleanUnusedInitializers] Removing initializer '624_quantized_zero_point'. It is not used by any node and should be removed from the model.\n",
      "2021-06-03 17:27:58.431467 [W:onnxruntime:, graph.cc:3211 CleanUnusedInitializers] Removing initializer '621_quantized_zero_point'. It is not used by any node and should be removed from the model.\n",
      "2021-06-03 17:27:58.431473 [W:onnxruntime:, graph.cc:3211 CleanUnusedInitializers] Removing initializer '684_quantized_zero_point'. It is not used by any node and should be removed from the model.\n",
      "2021-06-03 17:27:58.431585 [W:onnxruntime:, graph.cc:3211 CleanUnusedInitializers] Removing initializer '360'. It is not used by any node and should be removed from the model.\n",
      "2021-06-03 17:27:58.431599 [W:onnxruntime:, graph.cc:3211 CleanUnusedInitializers] Removing initializer '366'. It is not used by any node and should be removed from the model.\n",
      "2021-06-03 17:27:58.431607 [W:onnxruntime:, graph.cc:3211 CleanUnusedInitializers] Removing initializer '519'. It is not used by any node and should be removed from the model.\n",
      "2021-06-03 17:27:58.431612 [W:onnxruntime:, graph.cc:3211 CleanUnusedInitializers] Removing initializer '648_quantized_zero_point'. It is not used by any node and should be removed from the model.\n",
      "2021-06-03 17:27:58.431618 [W:onnxruntime:, graph.cc:3211 CleanUnusedInitializers] Removing initializer '379'. It is not used by any node and should be removed from the model.\n",
      "2021-06-03 17:27:58.431623 [W:onnxruntime:, graph.cc:3211 CleanUnusedInitializers] Removing initializer '346'. It is not used by any node and should be removed from the model.\n",
      "2021-06-03 17:27:58.431736 [W:onnxruntime:, graph.cc:3211 CleanUnusedInitializers] Removing initializer '380'. It is not used by any node and should be removed from the model.\n",
      "2021-06-03 17:27:58.431750 [W:onnxruntime:, graph.cc:3211 CleanUnusedInitializers] Removing initializer '436'. It is not used by any node and should be removed from the model.\n",
      "2021-06-03 17:27:58.431758 [W:onnxruntime:, graph.cc:3211 CleanUnusedInitializers] Removing initializer '473'. It is not used by any node and should be removed from the model.\n",
      "2021-06-03 17:27:58.431763 [W:onnxruntime:, graph.cc:3211 CleanUnusedInitializers] Removing initializer '431'. It is not used by any node and should be removed from the model.\n",
      "2021-06-03 17:27:58.431769 [W:onnxruntime:, graph.cc:3211 CleanUnusedInitializers] Removing initializer '654_quantized_scale'. It is not used by any node and should be removed from the model.\n",
      "2021-06-03 17:27:58.431774 [W:onnxruntime:, graph.cc:3211 CleanUnusedInitializers] Removing initializer '422'. It is not used by any node and should be removed from the model.\n",
      "2021-06-03 17:27:58.431890 [W:onnxruntime:, graph.cc:3211 CleanUnusedInitializers] Removing initializer '669_quantized_scale'. It is not used by any node and should be removed from the model.\n",
      "2021-06-03 17:27:58.431905 [W:onnxruntime:, graph.cc:3211 CleanUnusedInitializers] Removing initializer '354'. It is not used by any node and should be removed from the model.\n",
      "2021-06-03 17:27:58.431912 [W:onnxruntime:, graph.cc:3211 CleanUnusedInitializers] Removing initializer '461'. It is not used by any node and should be removed from the model.\n",
      "2021-06-03 17:27:58.431918 [W:onnxruntime:, graph.cc:3211 CleanUnusedInitializers] Removing initializer '405'. It is not used by any node and should be removed from the model.\n",
      "2021-06-03 17:27:58.431923 [W:onnxruntime:, graph.cc:3211 CleanUnusedInitializers] Removing initializer '582_quantized_zero_point'. It is not used by any node and should be removed from the model.\n",
      "2021-06-03 17:27:58.431929 [W:onnxruntime:, graph.cc:3211 CleanUnusedInitializers] Removing initializer '576_quantized_zero_point'. It is not used by any node and should be removed from the model.\n",
      "2021-06-03 17:27:58.432063 [W:onnxruntime:, graph.cc:3211 CleanUnusedInitializers] Removing initializer '418'. It is not used by any node and should be removed from the model.\n",
      "2021-06-03 17:27:58.432093 [W:onnxruntime:, graph.cc:3211 CleanUnusedInitializers] Removing initializer '318'. It is not used by any node and should be removed from the model.\n",
      "2021-06-03 17:27:58.432100 [W:onnxruntime:, graph.cc:3211 CleanUnusedInitializers] Removing initializer '645_quantized_scale'. It is not used by any node and should be removed from the model.\n",
      "2021-06-03 17:27:58.432106 [W:onnxruntime:, graph.cc:3211 CleanUnusedInitializers] Removing initializer '576_quantized_scale'. It is not used by any node and should be removed from the model.\n",
      "2021-06-03 17:27:58.432112 [W:onnxruntime:, graph.cc:3211 CleanUnusedInitializers] Removing initializer '558_quantized_zero_point'. It is not used by any node and should be removed from the model.\n",
      "2021-06-03 17:27:58.432117 [W:onnxruntime:, graph.cc:3211 CleanUnusedInitializers] Removing initializer '342'. It is not used by any node and should be removed from the model.\n",
      "2021-06-03 17:27:58.432243 [W:onnxruntime:, graph.cc:3211 CleanUnusedInitializers] Removing initializer '398'. It is not used by any node and should be removed from the model.\n",
      "2021-06-03 17:27:58.432256 [W:onnxruntime:, graph.cc:3211 CleanUnusedInitializers] Removing initializer '532'. It is not used by any node and should be removed from the model.\n",
      "2021-06-03 17:27:58.432264 [W:onnxruntime:, graph.cc:3211 CleanUnusedInitializers] Removing initializer '393'. It is not used by any node and should be removed from the model.\n",
      "2021-06-03 17:27:58.432269 [W:onnxruntime:, graph.cc:3211 CleanUnusedInitializers] Removing initializer '355'. It is not used by any node and should be removed from the model.\n",
      "2021-06-03 17:27:58.432274 [W:onnxruntime:, graph.cc:3211 CleanUnusedInitializers] Removing initializer '341'. It is not used by any node and should be removed from the model.\n",
      "2021-06-03 17:27:58.432279 [W:onnxruntime:, graph.cc:3211 CleanUnusedInitializers] Removing initializer '334'. It is not used by any node and should be removed from the model.\n",
      "2021-06-03 17:27:58.432395 [W:onnxruntime:, graph.cc:3211 CleanUnusedInitializers] Removing initializer '618_quantized_zero_point'. It is not used by any node and should be removed from the model.\n",
      "2021-06-03 17:27:58.432411 [W:onnxruntime:, graph.cc:3211 CleanUnusedInitializers] Removing initializer '359'. It is not used by any node and should be removed from the model.\n",
      "2021-06-03 17:27:58.432417 [W:onnxruntime:, graph.cc:3211 CleanUnusedInitializers] Removing initializer '322'. It is not used by any node and should be removed from the model.\n",
      "Converting optimized ONNX model /Users/gwang/github/onnxruntime3/onnxruntime/python/tools/quantization/notebooks/imagenet_v2/augmented_model.onnx to ORT format model /Users/gwang/github/onnxruntime3/onnxruntime/python/tools/quantization/notebooks/imagenet_v2/augmented_model.basic.ort\n"
     ]
    },
    {
     "name": "stdout",
     "output_type": "stream",
     "text": [
      "Converted 4 models. 0 failures.\n",
      "2021-06-03 18:27:58,593 ort_format_model.utils [INFO] - Processed /Users/gwang/github/onnxruntime3/onnxruntime/python/tools/quantization/notebooks/imagenet_v2/mobilenet_v2_float.basic.ort\n",
      "2021-06-03 18:27:58,616 ort_format_model.utils [INFO] - Processed /Users/gwang/github/onnxruntime3/onnxruntime/python/tools/quantization/notebooks/imagenet_v2/mobilenet_v2.uint8.basic.ort\n",
      "2021-06-03 18:27:58,637 ort_format_model.utils [INFO] - Processed /Users/gwang/github/onnxruntime3/onnxruntime/python/tools/quantization/notebooks/imagenet_v2/mobilenet_v2_float-opt.basic.ort\n",
      "2021-06-03 18:27:58,675 ort_format_model.utils [INFO] - Processed /Users/gwang/github/onnxruntime3/onnxruntime/python/tools/quantization/notebooks/imagenet_v2/augmented_model.basic.ort\n",
      "2021-06-03 18:27:58,677 ort_format_model.utils [INFO] - Created config in /Users/gwang/github/onnxruntime3/onnxruntime/python/tools/quantization/notebooks/imagenet_v2/required_operators.config\n"
     ]
    }
   ],
   "source": [
    "!{sys.executable} -m onnxruntime.tools.convert_onnx_models_to_ort --optimization_level basic ./"
   ]
  },
  {
   "cell_type": "markdown",
   "metadata": {},
   "source": [
    "Please find the following converted models in the same directory,\n",
    "* mobilenet_v2_float.ort\n",
    "* mobilenet_v2_uint8.ort\n",
    "Please note, there are temporary ONNX model files generated by the quantization process, which are converted to ort format as well, please ignore these files."
   ]
  }
 ],
 "metadata": {
  "kernelspec": {
   "display_name": "Python 3",
   "language": "python",
   "name": "python3"
  },
  "language_info": {
   "codemirror_mode": {
    "name": "ipython",
    "version": 3
   },
   "file_extension": ".py",
   "mimetype": "text/x-python",
   "name": "python",
   "nbconvert_exporter": "python",
   "pygments_lexer": "ipython3",
   "version": "3.7.6"
  },
  "varInspector": {
   "cols": {
    "lenName": 16,
    "lenType": 16,
    "lenVar": 40
   },
   "kernels_config": {
    "python": {
     "delete_cmd_postfix": "",
     "delete_cmd_prefix": "del ",
     "library": "var_list.py",
     "varRefreshCmd": "print(var_dic_list())"
    },
    "r": {
     "delete_cmd_postfix": ") ",
     "delete_cmd_prefix": "rm(",
     "library": "var_list.r",
     "varRefreshCmd": "cat(var_dic_list()) "
    }
   },
   "types_to_exclude": [
    "module",
    "function",
    "builtin_function_or_method",
    "instance",
    "_Feature"
   ],
   "window_display": false
  }
 },
 "nbformat": 4,
 "nbformat_minor": 2
}
